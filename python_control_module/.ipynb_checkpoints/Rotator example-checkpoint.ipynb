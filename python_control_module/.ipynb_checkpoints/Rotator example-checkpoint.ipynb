{
 "cells": [
  {
   "cell_type": "code",
   "execution_count": 1,
   "id": "unlimited-floor",
   "metadata": {},
   "outputs": [],
   "source": [
    "from hardware_cmd import Rotator"
   ]
  },
  {
   "cell_type": "code",
   "execution_count": 2,
   "id": "surprising-executive",
   "metadata": {},
   "outputs": [],
   "source": [
    "rot = Rotator(port = '/dev/ttyACM0')"
   ]
  },
  {
   "cell_type": "markdown",
   "id": "motivated-sewing",
   "metadata": {},
   "source": [
    "### Go home"
   ]
  },
  {
   "cell_type": "code",
   "execution_count": 3,
   "id": "muslim-bicycle",
   "metadata": {},
   "outputs": [
    {
     "name": "stdout",
     "output_type": "stream",
     "text": [
      "Finding home position...\n",
      "Command successfull.\n"
     ]
    }
   ],
   "source": [
    "rot.home(fast = True)"
   ]
  },
  {
   "cell_type": "markdown",
   "id": "living-document",
   "metadata": {},
   "source": [
    "### Set mode \n",
    "\n",
    "(*forward*: always arrive to a position from the same direction to limit hysteresis)"
   ]
  },
  {
   "cell_type": "code",
   "execution_count": 4,
   "id": "direct-wrapping",
   "metadata": {},
   "outputs": [
    {
     "name": "stdout",
     "output_type": "stream",
     "text": [
      "rotator mode 1\n",
      "Command successfull.\n"
     ]
    }
   ],
   "source": [
    "rot.set_mode('forward')"
   ]
  },
  {
   "cell_type": "markdown",
   "id": "environmental-trick",
   "metadata": {},
   "source": [
    "### Change speed"
   ]
  },
  {
   "cell_type": "code",
   "execution_count": 5,
   "id": "tender-committee",
   "metadata": {},
   "outputs": [
    {
     "name": "stdout",
     "output_type": "stream",
     "text": [
      "Command successfull.\n"
     ]
    }
   ],
   "source": [
    "rot.set_speed(200)"
   ]
  },
  {
   "cell_type": "markdown",
   "id": "prerequisite-tribute",
   "metadata": {},
   "source": [
    "### Go to a given angle position "
   ]
  },
  {
   "cell_type": "code",
   "execution_count": 6,
   "id": "dutch-documentary",
   "metadata": {},
   "outputs": [
    {
     "name": "stdout",
     "output_type": "stream",
     "text": [
      "Going to angle=60...\n",
      "Command successfull.\n"
     ]
    }
   ],
   "source": [
    "rot.go_to(60)"
   ]
  },
  {
   "cell_type": "markdown",
   "id": "voluntary-metadata",
   "metadata": {},
   "source": [
    "### As for the position"
   ]
  },
  {
   "cell_type": "code",
   "execution_count": 7,
   "id": "treated-colorado",
   "metadata": {},
   "outputs": [
    {
     "name": "stdout",
     "output_type": "stream",
     "text": [
      "Received value: 59.9854\n",
      "Current angle: 59.99 degrees\n"
     ]
    }
   ],
   "source": [
    "print(f\"Current angle: {rot.get_angle():.2f} degrees\")"
   ]
  },
  {
   "cell_type": "markdown",
   "id": "bored-documentary",
   "metadata": {},
   "source": [
    "### Close device"
   ]
  },
  {
   "cell_type": "code",
   "execution_count": 8,
   "id": "gothic-nudist",
   "metadata": {},
   "outputs": [],
   "source": [
    "rot.close()"
   ]
  }
 ],
 "metadata": {
  "kernelspec": {
   "display_name": "'Python Interactive'",
   "language": "python",
   "name": "049de88b-63f5-4919-a743-6ec323d93608"
  },
  "language_info": {
   "codemirror_mode": {
    "name": "ipython",
    "version": 3
   },
   "file_extension": ".py",
   "mimetype": "text/x-python",
   "name": "python",
   "nbconvert_exporter": "python",
   "pygments_lexer": "ipython3",
   "version": "3.6.7"
  },
  "toc": {
   "base_numbering": 1,
   "nav_menu": {},
   "number_sections": true,
   "sideBar": true,
   "skip_h1_title": false,
   "title_cell": "Table of Contents",
   "title_sidebar": "Contents",
   "toc_cell": false,
   "toc_position": {},
   "toc_section_display": true,
   "toc_window_display": false
  }
 },
 "nbformat": 4,
 "nbformat_minor": 5
}
